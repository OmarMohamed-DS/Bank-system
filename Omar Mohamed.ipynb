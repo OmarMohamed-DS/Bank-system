{
 "cells": [
  {
   "cell_type": "markdown",
   "metadata": {
    "id": "3e4EWi6G4PX0"
   },
   "source": [
    "![image.png](attachment:image.png)"
   ]
  },
  {
   "cell_type": "markdown",
   "metadata": {
    "id": "gqmdOwfw4PX_"
   },
   "source": [
    "> ### The Central Bank contacted our technical team and asked it to develop a program suitable for all banks, with the addition of some advantages for certain banks"
   ]
  },
  {
   "cell_type": "markdown",
   "metadata": {
    "id": "6vneWp-f4PYB"
   },
   "source": [
    "# Task 1 : \n",
    "- #### task 1.1 Make Class(User) with attributes:\n",
    "    - name \n",
    "    - age \n",
    "    - gender \n",
    "    - balance\n",
    "- #### task 1.2 Make method to show previous data "
   ]
  },
  {
   "cell_type": "code",
   "execution_count": 1,
   "metadata": {
    "id": "PdVMa-AJ4PYC"
   },
   "outputs": [],
   "source": [
    "class user:\n",
    "    def __init__(self,n,age,gender,balance):\n",
    "        self.name=n\n",
    "        self.age=age\n",
    "        self.gender=gender\n",
    "        self.balance=int(balance)\n",
    "        print(f'your name is {self.name}, your age is {self.age}, your gender is {self.gender},your balance is {self.balance}')\n",
    "    def showdata(self):\n",
    "        print(f' the data of user is {self.name , self.age , self.gender , self.balance}') \n",
    "    "
   ]
  },
  {
   "cell_type": "code",
   "execution_count": 2,
   "metadata": {},
   "outputs": [
    {
     "name": "stdout",
     "output_type": "stream",
     "text": [
      "your name is omar, your age is 27, your gender is male,your balance is 20000\n"
     ]
    }
   ],
   "source": [
    "user1=user('omar','27','male',20000)"
   ]
  },
  {
   "cell_type": "code",
   "execution_count": 3,
   "metadata": {},
   "outputs": [
    {
     "data": {
      "text/plain": [
       "'27'"
      ]
     },
     "execution_count": 3,
     "metadata": {},
     "output_type": "execute_result"
    }
   ],
   "source": [
    "user1.age"
   ]
  },
  {
   "cell_type": "code",
   "execution_count": 4,
   "metadata": {},
   "outputs": [
    {
     "name": "stdout",
     "output_type": "stream",
     "text": [
      " the data of user is ('omar', '27', 'male', 20000)\n"
     ]
    }
   ],
   "source": [
    "user1.showdata()"
   ]
  },
  {
   "cell_type": "code",
   "execution_count": null,
   "metadata": {},
   "outputs": [],
   "source": []
  },
  {
   "cell_type": "markdown",
   "metadata": {
    "id": "upGuF1tU4PYD"
   },
   "source": [
    "# Task 2 : \n",
    "- Make Child Class(Bank) which inherite from Class(user) with Mehods:\n",
    "    - #### task 2.1 deposite : which take parameter(amount) and add it to balance and print new balance.  \n",
    "    - #### task 2.2 withdraw : which take parameter(amount) and check if user have enough money. \n",
    "    - #### task 2.3 view balance : to show current balance. \n"
   ]
  },
  {
   "cell_type": "code",
   "execution_count": 5,
   "metadata": {
    "id": "0CN9pJkQ4PYE"
   },
   "outputs": [],
   "source": [
    "class deposite(user):\n",
    "    def add_to_balance(self,newBalance):\n",
    "        self.balance+=newBalance\n",
    "        print(f'the new balance is {self.balance}')"
   ]
  },
  {
   "cell_type": "code",
   "execution_count": 6,
   "metadata": {},
   "outputs": [],
   "source": [
    "class withdraw(deposite):\n",
    "    def withdraw_From_Balance(self,moneyIwant):\n",
    "        if moneyIwant>self.balance:\n",
    "            print(' balance is not enough')\n",
    "        else:\n",
    "            self.balance-=moneyIwant\n",
    "            print(self.balance)"
   ]
  },
  {
   "cell_type": "code",
   "execution_count": 7,
   "metadata": {},
   "outputs": [],
   "source": [
    "class viewbalance(withdraw):\n",
    "    def current_balance(self):\n",
    "        \n",
    "        print(f' the current balance is {self.balance}')\n",
    "    "
   ]
  },
  {
   "cell_type": "code",
   "execution_count": 8,
   "metadata": {},
   "outputs": [
    {
     "name": "stdout",
     "output_type": "stream",
     "text": [
      "your name is omar, your age is 27, your gender is male,your balance is 20000\n"
     ]
    }
   ],
   "source": [
    "user2=viewbalance('omar','27','male',20000)"
   ]
  },
  {
   "cell_type": "code",
   "execution_count": 9,
   "metadata": {},
   "outputs": [
    {
     "name": "stdout",
     "output_type": "stream",
     "text": [
      "19000\n"
     ]
    }
   ],
   "source": [
    "user2.withdraw_From_Balance(1000)"
   ]
  },
  {
   "cell_type": "code",
   "execution_count": 11,
   "metadata": {},
   "outputs": [
    {
     "name": "stdout",
     "output_type": "stream",
     "text": [
      " balance is not enough\n"
     ]
    }
   ],
   "source": [
    "user2.withdraw_From_Balance(20000)"
   ]
  },
  {
   "cell_type": "code",
   "execution_count": 12,
   "metadata": {},
   "outputs": [
    {
     "name": "stdout",
     "output_type": "stream",
     "text": [
      " the current balance is 19000\n"
     ]
    }
   ],
   "source": [
    "user2.current_balance()"
   ]
  },
  {
   "cell_type": "code",
   "execution_count": null,
   "metadata": {},
   "outputs": [],
   "source": []
  },
  {
   "cell_type": "markdown",
   "metadata": {
    "id": "jYKkSbUN4PYE"
   },
   "source": [
    "# Task 3 : \n",
    "- #### task 3.1 Make Child Class(CIB) which inherite from Class(Bank) with Mehods:\n",
    "    -   Loan application: which take parameter(amount) and  (Duration) >> max loan is one million\n",
    "- #### task 3.2 Make Child Class(QNB) which inherite from Class(Bank) with Mehods:\n",
    "    -   Loan application: which take parameter(amount) and  (Duration) >> max loan is one 2 million"
   ]
  },
  {
   "cell_type": "code",
   "execution_count": 13,
   "metadata": {
    "id": "gGoUqj3_4PYF"
   },
   "outputs": [],
   "source": [
    "class CIB(viewbalance):\n",
    "    def loan_cib(self,loan):\n",
    "        self.loan=loan\n",
    "        print(f' the loan is {loan} and duration is 10 months')"
   ]
  },
  {
   "cell_type": "code",
   "execution_count": 14,
   "metadata": {},
   "outputs": [
    {
     "name": "stdout",
     "output_type": "stream",
     "text": [
      "your name is omar, your age is 27, your gender is male,your balance is 30000\n"
     ]
    }
   ],
   "source": [
    "user2=CIB('omar','27','male',30000)"
   ]
  },
  {
   "cell_type": "code",
   "execution_count": 15,
   "metadata": {},
   "outputs": [
    {
     "name": "stdout",
     "output_type": "stream",
     "text": [
      " the loan is 1000000 and duration is 10 months\n"
     ]
    }
   ],
   "source": [
    "user2.loan_cib(1000000)"
   ]
  },
  {
   "cell_type": "code",
   "execution_count": 16,
   "metadata": {},
   "outputs": [],
   "source": [
    "class QNB(CIB):\n",
    "    def loan_QNB(self,loan):\n",
    "        self.loan=loan\n",
    "        print(f' the loan is {loan} and duration is 20 months')"
   ]
  },
  {
   "cell_type": "code",
   "execution_count": 17,
   "metadata": {},
   "outputs": [
    {
     "name": "stdout",
     "output_type": "stream",
     "text": [
      "your name is mohamed, your age is 27, your gender is male,your balance is 20000\n"
     ]
    }
   ],
   "source": [
    "user3=QNB('mohamed','27','male',20000)"
   ]
  },
  {
   "cell_type": "code",
   "execution_count": 18,
   "metadata": {},
   "outputs": [
    {
     "name": "stdout",
     "output_type": "stream",
     "text": [
      " the loan is 2000000 and duration is 20 months\n"
     ]
    }
   ],
   "source": [
    "user3.loan_QNB(2000000)"
   ]
  },
  {
   "cell_type": "code",
   "execution_count": null,
   "metadata": {},
   "outputs": [],
   "source": []
  },
  {
   "cell_type": "code",
   "execution_count": null,
   "metadata": {},
   "outputs": [],
   "source": []
  }
 ],
 "metadata": {
  "colab": {
   "provenance": []
  },
  "kernelspec": {
   "display_name": "Python 3 (ipykernel)",
   "language": "python",
   "name": "python3"
  },
  "language_info": {
   "codemirror_mode": {
    "name": "ipython",
    "version": 3
   },
   "file_extension": ".py",
   "mimetype": "text/x-python",
   "name": "python",
   "nbconvert_exporter": "python",
   "pygments_lexer": "ipython3",
   "version": "3.10.8"
  }
 },
 "nbformat": 4,
 "nbformat_minor": 1
}
